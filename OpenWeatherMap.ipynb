{
 "cells": [
  {
   "cell_type": "code",
   "execution_count": 6,
   "metadata": {},
   "outputs": [
    {
     "name": "stdout",
     "output_type": "stream",
     "text": [
      "{'coord': {'lon': -56.1645, 'lat': -34.9011}, 'weather': [{'id': 800, 'main': 'Clear', 'description': 'clear sky', 'icon': '01n'}], 'base': 'stations', 'main': {'temp': 8.82, 'feels_like': 6.49, 'temp_min': 7.99, 'temp_max': 8.82, 'pressure': 1018, 'humidity': 66, 'sea_level': 1018, 'grnd_level': 1016}, 'visibility': 10000, 'wind': {'speed': 4.12, 'deg': 30}, 'clouds': {'all': 0}, 'dt': 1725593172, 'sys': {'type': 1, 'id': 8713, 'country': 'UY', 'sunrise': 1725616586, 'sunset': 1725658182}, 'timezone': -10800, 'id': 3442926, 'name': 'Cordon', 'cod': 200}\n",
      "Temperatura actual en Montevideo, Uruguay: 8.82°C\n"
     ]
    }
   ],
   "source": [
    "import requests\n",
    "import os\n",
    "from dotenv import load_dotenv\n",
    "\n",
    "# Cargar el archivo .env y leer las variables de entorno\n",
    "load_dotenv()\n",
    "\n",
    "# Obtener la clave API desde el archivo .env\n",
    "api_key = os.getenv('OPENWEATHER_API_KEY')\n",
    "\n",
    "# Coordenadas de Montevideo, Uruguay\n",
    "lat = -34.9011\n",
    "lon = -56.1645\n",
    "\n",
    "# URL de la API de OpenWeatherMap (para datos actuales)\n",
    "url = f\"http://api.openweathermap.org/data/2.5/weather?lat={lat}&lon={lon}&appid={api_key}&units=metric\"\n",
    "\n",
    "# Hacer la solicitud a la API\n",
    "response = requests.get(url)\n",
    "\n",
    "# Parsear el JSON de la respuesta\n",
    "weather_data = response.json()\n",
    "\n",
    "# Imprimir el contenido completo de la respuesta para asegurarse de que está funcionando\n",
    "print(weather_data)\n",
    "\n",
    "# Extraer la temperatura actual\n",
    "temperature = weather_data['main']['temp']\n",
    "\n",
    "# Mostrar la temperatura\n",
    "print(f\"Temperatura actual en Montevideo, Uruguay: {temperature}°C\")\n"
   ]
  }
 ],
 "metadata": {
  "kernelspec": {
   "display_name": "Python 3",
   "language": "python",
   "name": "python3"
  },
  "language_info": {
   "codemirror_mode": {
    "name": "ipython",
    "version": 3
   },
   "file_extension": ".py",
   "mimetype": "text/x-python",
   "name": "python",
   "nbconvert_exporter": "python",
   "pygments_lexer": "ipython3",
   "version": "3.11.9"
  }
 },
 "nbformat": 4,
 "nbformat_minor": 2
}
