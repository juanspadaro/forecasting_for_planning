{
 "cells": [
  {
   "cell_type": "markdown",
   "metadata": {},
   "source": [
    "### Forecast de demanda: Facturapp"
   ]
  },
  {
   "cell_type": "markdown",
   "metadata": {},
   "source": [
    "#### Conexión de datos"
   ]
  },
  {
   "cell_type": "code",
   "execution_count": 35,
   "metadata": {},
   "outputs": [],
   "source": [
    "import pandas as pd\n",
    "\n",
    "# Rutas a los archivos CSV\n",
    "clientes_path = 'C:/Others/Emprendiendo/Agencia/Bummi ai/GitHub Bummi/forecast_facturapp/csv/clientes.csv'\n",
    "productos_path = 'C:/Others/Emprendiendo/Agencia/Bummi ai/GitHub Bummi/forecast_facturapp/csv/productos.csv'\n",
    "ventas_path = 'C:/Others/Emprendiendo/Agencia/Bummi ai/GitHub Bummi/forecast_facturapp/csv/ventas.csv'\n",
    "\n",
    "# Leer los archivos CSV\n",
    "clientes_df = pd.read_csv(clientes_path)\n",
    "productos_df = pd.read_csv(productos_path)\n",
    "ventas_df = pd.read_csv(ventas_path)"
   ]
  },
  {
   "cell_type": "code",
   "execution_count": 36,
   "metadata": {},
   "outputs": [
    {
     "data": {
      "text/html": [
       "<div>\n",
       "<style scoped>\n",
       "    .dataframe tbody tr th:only-of-type {\n",
       "        vertical-align: middle;\n",
       "    }\n",
       "\n",
       "    .dataframe tbody tr th {\n",
       "        vertical-align: top;\n",
       "    }\n",
       "\n",
       "    .dataframe thead th {\n",
       "        text-align: right;\n",
       "    }\n",
       "</style>\n",
       "<table border=\"1\" class=\"dataframe\">\n",
       "  <thead>\n",
       "    <tr style=\"text-align: right;\">\n",
       "      <th></th>\n",
       "      <th>id</th>\n",
       "      <th>razon_soc</th>\n",
       "      <th>nombre_fantasia</th>\n",
       "      <th>pais</th>\n",
       "      <th>departamento</th>\n",
       "      <th>ciudad</th>\n",
       "      <th>activo</th>\n",
       "      <th>tipo_cliente</th>\n",
       "    </tr>\n",
       "  </thead>\n",
       "  <tbody>\n",
       "    <tr>\n",
       "      <th>0</th>\n",
       "      <td>3</td>\n",
       "      <td>DELICIAS SANTI</td>\n",
       "      <td>NaN</td>\n",
       "      <td>URUGUAY</td>\n",
       "      <td>CERRO LARGO</td>\n",
       "      <td>MELO</td>\n",
       "      <td>N</td>\n",
       "      <td>NaN</td>\n",
       "    </tr>\n",
       "    <tr>\n",
       "      <th>1</th>\n",
       "      <td>9</td>\n",
       "      <td>ALICIA PEREIRA</td>\n",
       "      <td>NaN</td>\n",
       "      <td>URUGUAY</td>\n",
       "      <td>CERRO LARGO</td>\n",
       "      <td>MELO</td>\n",
       "      <td>N</td>\n",
       "      <td>NaN</td>\n",
       "    </tr>\n",
       "    <tr>\n",
       "      <th>2</th>\n",
       "      <td>10</td>\n",
       "      <td>CHIVETERIA ROXANA</td>\n",
       "      <td>NaN</td>\n",
       "      <td>URUGUAY</td>\n",
       "      <td>CERRO LARGO</td>\n",
       "      <td>MELO</td>\n",
       "      <td>N</td>\n",
       "      <td>NaN</td>\n",
       "    </tr>\n",
       "    <tr>\n",
       "      <th>3</th>\n",
       "      <td>13</td>\n",
       "      <td>AUTOSERVICE Y PANADERIA AUCHI</td>\n",
       "      <td>NaN</td>\n",
       "      <td>URUGUAY</td>\n",
       "      <td>CERRO LARGO</td>\n",
       "      <td>MELO</td>\n",
       "      <td>N</td>\n",
       "      <td>NaN</td>\n",
       "    </tr>\n",
       "    <tr>\n",
       "      <th>4</th>\n",
       "      <td>15</td>\n",
       "      <td>RESTAURANT LA VASCA</td>\n",
       "      <td>NaN</td>\n",
       "      <td>URUGUAY</td>\n",
       "      <td>CERRO LARGO</td>\n",
       "      <td>MELO</td>\n",
       "      <td>N</td>\n",
       "      <td>NaN</td>\n",
       "    </tr>\n",
       "  </tbody>\n",
       "</table>\n",
       "</div>"
      ],
      "text/plain": [
       "   id                      razon_soc nombre_fantasia     pais departamento  \\\n",
       "0   3                 DELICIAS SANTI             NaN  URUGUAY  CERRO LARGO   \n",
       "1   9                 ALICIA PEREIRA             NaN  URUGUAY  CERRO LARGO   \n",
       "2  10              CHIVETERIA ROXANA             NaN  URUGUAY  CERRO LARGO   \n",
       "3  13  AUTOSERVICE Y PANADERIA AUCHI             NaN  URUGUAY  CERRO LARGO   \n",
       "4  15            RESTAURANT LA VASCA             NaN  URUGUAY  CERRO LARGO   \n",
       "\n",
       "  ciudad activo tipo_cliente  \n",
       "0   MELO      N          NaN  \n",
       "1   MELO      N          NaN  \n",
       "2   MELO      N          NaN  \n",
       "3   MELO      N          NaN  \n",
       "4   MELO      N          NaN  "
      ]
     },
     "execution_count": 36,
     "metadata": {},
     "output_type": "execute_result"
    }
   ],
   "source": [
    "clientes_df.head()"
   ]
  },
  {
   "cell_type": "code",
   "execution_count": 37,
   "metadata": {},
   "outputs": [
    {
     "data": {
      "text/html": [
       "<div>\n",
       "<style scoped>\n",
       "    .dataframe tbody tr th:only-of-type {\n",
       "        vertical-align: middle;\n",
       "    }\n",
       "\n",
       "    .dataframe tbody tr th {\n",
       "        vertical-align: top;\n",
       "    }\n",
       "\n",
       "    .dataframe thead th {\n",
       "        text-align: right;\n",
       "    }\n",
       "</style>\n",
       "<table border=\"1\" class=\"dataframe\">\n",
       "  <thead>\n",
       "    <tr style=\"text-align: right;\">\n",
       "      <th></th>\n",
       "      <th>codigo_producto</th>\n",
       "      <th>descripcion_producto</th>\n",
       "      <th>costo_producto</th>\n",
       "      <th>precio_producto</th>\n",
       "      <th>stock_actual_producto</th>\n",
       "      <th>unidad_de_medida_producto</th>\n",
       "      <th>proveedor_producto</th>\n",
       "      <th>ramo_producto</th>\n",
       "      <th>familia_producto</th>\n",
       "      <th>grupo_producto</th>\n",
       "      <th>marco_producto</th>\n",
       "    </tr>\n",
       "  </thead>\n",
       "  <tbody>\n",
       "    <tr>\n",
       "      <th>0</th>\n",
       "      <td>404</td>\n",
       "      <td>MANTECA DOS AROLLOS KG</td>\n",
       "      <td>180.000</td>\n",
       "      <td>216.00</td>\n",
       "      <td>0.00</td>\n",
       "      <td>Uni</td>\n",
       "      <td>Proveedor de la Empresa</td>\n",
       "      <td>Sin asignar</td>\n",
       "      <td>ISSUE</td>\n",
       "      <td>TINTAS</td>\n",
       "      <td>NaN</td>\n",
       "    </tr>\n",
       "    <tr>\n",
       "      <th>1</th>\n",
       "      <td>3</td>\n",
       "      <td>COMPRA EXENTO IVA</td>\n",
       "      <td>0.000</td>\n",
       "      <td>0.00</td>\n",
       "      <td>12.47</td>\n",
       "      <td>Uni</td>\n",
       "      <td>Proveedor de la Empresa</td>\n",
       "      <td>VACIO2</td>\n",
       "      <td>DANICA</td>\n",
       "      <td>COMPRAS</td>\n",
       "      <td>NaN</td>\n",
       "    </tr>\n",
       "    <tr>\n",
       "      <th>2</th>\n",
       "      <td>5932</td>\n",
       "      <td>ALIMENTO SPECIAL DOG CARNE ADULTO 20KG</td>\n",
       "      <td>27.080</td>\n",
       "      <td>33.85</td>\n",
       "      <td>0.00</td>\n",
       "      <td>Uni</td>\n",
       "      <td>MANIZAL S.A</td>\n",
       "      <td>ALIMENTO MASCOTAS</td>\n",
       "      <td>PERROS</td>\n",
       "      <td>Sin asignar</td>\n",
       "      <td>SPECIAL DOG</td>\n",
       "    </tr>\n",
       "    <tr>\n",
       "      <th>3</th>\n",
       "      <td>250401</td>\n",
       "      <td>ENCENDEDOR INMINENT CLASICO (DISP 50 UNI) (20 ...</td>\n",
       "      <td>801.786</td>\n",
       "      <td>1002.00</td>\n",
       "      <td>1.00</td>\n",
       "      <td>Uni</td>\n",
       "      <td>MABLE S.A</td>\n",
       "      <td>HOGAR</td>\n",
       "      <td>VARIOS</td>\n",
       "      <td>Sin asignar</td>\n",
       "      <td>INMINENT</td>\n",
       "    </tr>\n",
       "    <tr>\n",
       "      <th>4</th>\n",
       "      <td>1077</td>\n",
       "      <td>BANDEJA BOLW 4 445BN</td>\n",
       "      <td>0.381</td>\n",
       "      <td>0.50</td>\n",
       "      <td>366.00</td>\n",
       "      <td>Uni</td>\n",
       "      <td>NaN</td>\n",
       "      <td>EMPAQUES</td>\n",
       "      <td>BANDEJA</td>\n",
       "      <td>Sin asignar</td>\n",
       "      <td>NaN</td>\n",
       "    </tr>\n",
       "  </tbody>\n",
       "</table>\n",
       "</div>"
      ],
      "text/plain": [
       "  codigo_producto                               descripcion_producto  \\\n",
       "0             404                             MANTECA DOS AROLLOS KG   \n",
       "1               3                                  COMPRA EXENTO IVA   \n",
       "2            5932             ALIMENTO SPECIAL DOG CARNE ADULTO 20KG   \n",
       "3          250401  ENCENDEDOR INMINENT CLASICO (DISP 50 UNI) (20 ...   \n",
       "4            1077                               BANDEJA BOLW 4 445BN   \n",
       "\n",
       "   costo_producto  precio_producto  stock_actual_producto  \\\n",
       "0         180.000           216.00                   0.00   \n",
       "1           0.000             0.00                  12.47   \n",
       "2          27.080            33.85                   0.00   \n",
       "3         801.786          1002.00                   1.00   \n",
       "4           0.381             0.50                 366.00   \n",
       "\n",
       "  unidad_de_medida_producto       proveedor_producto      ramo_producto  \\\n",
       "0                       Uni  Proveedor de la Empresa        Sin asignar   \n",
       "1                       Uni  Proveedor de la Empresa             VACIO2   \n",
       "2                       Uni              MANIZAL S.A  ALIMENTO MASCOTAS   \n",
       "3                       Uni                MABLE S.A              HOGAR   \n",
       "4                       Uni                      NaN           EMPAQUES   \n",
       "\n",
       "  familia_producto grupo_producto marco_producto  \n",
       "0            ISSUE         TINTAS            NaN  \n",
       "1           DANICA        COMPRAS            NaN  \n",
       "2           PERROS    Sin asignar    SPECIAL DOG  \n",
       "3           VARIOS    Sin asignar       INMINENT  \n",
       "4          BANDEJA    Sin asignar            NaN  "
      ]
     },
     "execution_count": 37,
     "metadata": {},
     "output_type": "execute_result"
    }
   ],
   "source": [
    "productos_df.head()"
   ]
  },
  {
   "cell_type": "code",
   "execution_count": 38,
   "metadata": {},
   "outputs": [
    {
     "data": {
      "text/html": [
       "<div>\n",
       "<style scoped>\n",
       "    .dataframe tbody tr th:only-of-type {\n",
       "        vertical-align: middle;\n",
       "    }\n",
       "\n",
       "    .dataframe tbody tr th {\n",
       "        vertical-align: top;\n",
       "    }\n",
       "\n",
       "    .dataframe thead th {\n",
       "        text-align: right;\n",
       "    }\n",
       "</style>\n",
       "<table border=\"1\" class=\"dataframe\">\n",
       "  <thead>\n",
       "    <tr style=\"text-align: right;\">\n",
       "      <th></th>\n",
       "      <th>codigo_producto</th>\n",
       "      <th>moneda_venta</th>\n",
       "      <th>id_cliente</th>\n",
       "      <th>fecha_venta</th>\n",
       "      <th>monto_ventas_producto</th>\n",
       "      <th>cantidad_ventas_producto</th>\n",
       "    </tr>\n",
       "  </thead>\n",
       "  <tbody>\n",
       "    <tr>\n",
       "      <th>0</th>\n",
       "      <td>0</td>\n",
       "      <td>$</td>\n",
       "      <td>1241</td>\n",
       "      <td>2022-12-30</td>\n",
       "      <td>0.0</td>\n",
       "      <td>1.0</td>\n",
       "    </tr>\n",
       "    <tr>\n",
       "      <th>1</th>\n",
       "      <td>0</td>\n",
       "      <td>$</td>\n",
       "      <td>1258</td>\n",
       "      <td>2022-12-16</td>\n",
       "      <td>0.0</td>\n",
       "      <td>1.0</td>\n",
       "    </tr>\n",
       "    <tr>\n",
       "      <th>2</th>\n",
       "      <td>0</td>\n",
       "      <td>$</td>\n",
       "      <td>1201</td>\n",
       "      <td>2024-01-30</td>\n",
       "      <td>0.0</td>\n",
       "      <td>1.0</td>\n",
       "    </tr>\n",
       "    <tr>\n",
       "      <th>3</th>\n",
       "      <td>0</td>\n",
       "      <td>$</td>\n",
       "      <td>1260</td>\n",
       "      <td>2023-03-01</td>\n",
       "      <td>0.0</td>\n",
       "      <td>1.0</td>\n",
       "    </tr>\n",
       "    <tr>\n",
       "      <th>4</th>\n",
       "      <td>0</td>\n",
       "      <td>$</td>\n",
       "      <td>1403</td>\n",
       "      <td>2023-08-15</td>\n",
       "      <td>0.0</td>\n",
       "      <td>1.0</td>\n",
       "    </tr>\n",
       "  </tbody>\n",
       "</table>\n",
       "</div>"
      ],
      "text/plain": [
       "  codigo_producto moneda_venta  id_cliente fecha_venta  monto_ventas_producto  \\\n",
       "0               0          $          1241  2022-12-30                    0.0   \n",
       "1               0          $          1258  2022-12-16                    0.0   \n",
       "2               0          $          1201  2024-01-30                    0.0   \n",
       "3               0          $          1260  2023-03-01                    0.0   \n",
       "4               0          $          1403  2023-08-15                    0.0   \n",
       "\n",
       "   cantidad_ventas_producto  \n",
       "0                       1.0  \n",
       "1                       1.0  \n",
       "2                       1.0  \n",
       "3                       1.0  \n",
       "4                       1.0  "
      ]
     },
     "execution_count": 38,
     "metadata": {},
     "output_type": "execute_result"
    }
   ],
   "source": [
    "ventas_df.head()"
   ]
  },
  {
   "cell_type": "markdown",
   "metadata": {},
   "source": [
    "#### Benchmark: ARIMA"
   ]
  },
  {
   "cell_type": "markdown",
   "metadata": {},
   "source": [
    "#### Opción 1: Prophet"
   ]
  },
  {
   "cell_type": "code",
   "execution_count": null,
   "metadata": {},
   "outputs": [],
   "source": []
  },
  {
   "cell_type": "markdown",
   "metadata": {},
   "source": [
    "#### Opción 2: skforecast"
   ]
  },
  {
   "cell_type": "code",
   "execution_count": null,
   "metadata": {},
   "outputs": [],
   "source": []
  },
  {
   "cell_type": "markdown",
   "metadata": {},
   "source": [
    "### Opciones avanzadas"
   ]
  },
  {
   "cell_type": "markdown",
   "metadata": {},
   "source": [
    "#### Opción avanzada 1: Temporal Fusion Transformers (TFT)"
   ]
  },
  {
   "cell_type": "code",
   "execution_count": null,
   "metadata": {},
   "outputs": [],
   "source": []
  },
  {
   "cell_type": "markdown",
   "metadata": {},
   "source": [
    "#### Opción avanzada 2: DeepAR (a través de GluonTS)"
   ]
  },
  {
   "cell_type": "code",
   "execution_count": null,
   "metadata": {},
   "outputs": [],
   "source": []
  },
  {
   "cell_type": "markdown",
   "metadata": {},
   "source": [
    "#### Opción avanzada 3: TimeGPT"
   ]
  },
  {
   "cell_type": "code",
   "execution_count": null,
   "metadata": {},
   "outputs": [],
   "source": []
  }
 ],
 "metadata": {
  "kernelspec": {
   "display_name": "Python 3",
   "language": "python",
   "name": "python3"
  },
  "language_info": {
   "codemirror_mode": {
    "name": "ipython",
    "version": 3
   },
   "file_extension": ".py",
   "mimetype": "text/x-python",
   "name": "python",
   "nbconvert_exporter": "python",
   "pygments_lexer": "ipython3",
   "version": "3.11.9"
  }
 },
 "nbformat": 4,
 "nbformat_minor": 2
}
