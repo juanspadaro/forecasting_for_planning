{
 "cells": [
  {
   "cell_type": "code",
   "execution_count": 1354,
   "metadata": {},
   "outputs": [],
   "source": [
    "import time\n",
    "notebook_start_time = time.time()"
   ]
  },
  {
   "cell_type": "markdown",
   "metadata": {},
   "source": [
    "### Forecast de demanda: Facturapp"
   ]
  },
  {
   "cell_type": "markdown",
   "metadata": {},
   "source": [
    "#### ✅ TimeGPT"
   ]
  },
  {
   "cell_type": "markdown",
   "metadata": {},
   "source": [
    "##### Datos"
   ]
  },
  {
   "cell_type": "code",
   "execution_count": 1355,
   "metadata": {},
   "outputs": [],
   "source": [
    "import warnings\n",
    "warnings.simplefilter(\"ignore\", DeprecationWarning)\n",
    "warnings.simplefilter(\"ignore\", FutureWarning, )"
   ]
  },
  {
   "cell_type": "code",
   "execution_count": 1356,
   "metadata": {},
   "outputs": [],
   "source": [
    "import pandas as pd\n",
    "\n",
    "# Rutas a los archivos CSV\n",
    "clientes_path = 'C:/Others/Emprendiendo/Agencia/Bummi ai/GitHub Bummi/forecasting_for_planning/csv/clientes.csv'\n",
    "productos_path = 'C:/Others/Emprendiendo/Agencia/Bummi ai/GitHub Bummi/forecasting_for_planning/csv/productos.csv'\n",
    "ventas_path = 'C:/Others/Emprendiendo/Agencia/Bummi ai/GitHub Bummi/forecasting_for_planning/csv/ventas.csv'\n",
    "\n",
    "# Leer los archivos CSV\n",
    "clientes_df = pd.read_csv(clientes_path)\n",
    "productos_df = pd.read_csv(productos_path)\n",
    "ventas_df = pd.read_csv(ventas_path)"
   ]
  },
  {
   "cell_type": "code",
   "execution_count": 1357,
   "metadata": {},
   "outputs": [
    {
     "data": {
      "text/html": [
       "<div>\n",
       "<style scoped>\n",
       "    .dataframe tbody tr th:only-of-type {\n",
       "        vertical-align: middle;\n",
       "    }\n",
       "\n",
       "    .dataframe tbody tr th {\n",
       "        vertical-align: top;\n",
       "    }\n",
       "\n",
       "    .dataframe thead th {\n",
       "        text-align: right;\n",
       "    }\n",
       "</style>\n",
       "<table border=\"1\" class=\"dataframe\">\n",
       "  <thead>\n",
       "    <tr style=\"text-align: right;\">\n",
       "      <th></th>\n",
       "      <th>codigo_producto</th>\n",
       "      <th>moneda_venta</th>\n",
       "      <th>id_cliente</th>\n",
       "      <th>fecha_venta</th>\n",
       "      <th>monto_ventas_producto</th>\n",
       "      <th>cantidad_ventas_producto</th>\n",
       "    </tr>\n",
       "  </thead>\n",
       "  <tbody>\n",
       "    <tr>\n",
       "      <th>0</th>\n",
       "      <td>0</td>\n",
       "      <td>$</td>\n",
       "      <td>1241</td>\n",
       "      <td>2022-12-30</td>\n",
       "      <td>0.0</td>\n",
       "      <td>1.0</td>\n",
       "    </tr>\n",
       "    <tr>\n",
       "      <th>1</th>\n",
       "      <td>0</td>\n",
       "      <td>$</td>\n",
       "      <td>1258</td>\n",
       "      <td>2022-12-16</td>\n",
       "      <td>0.0</td>\n",
       "      <td>1.0</td>\n",
       "    </tr>\n",
       "    <tr>\n",
       "      <th>2</th>\n",
       "      <td>0</td>\n",
       "      <td>$</td>\n",
       "      <td>1201</td>\n",
       "      <td>2024-01-30</td>\n",
       "      <td>0.0</td>\n",
       "      <td>1.0</td>\n",
       "    </tr>\n",
       "    <tr>\n",
       "      <th>3</th>\n",
       "      <td>0</td>\n",
       "      <td>$</td>\n",
       "      <td>1260</td>\n",
       "      <td>2023-03-01</td>\n",
       "      <td>0.0</td>\n",
       "      <td>1.0</td>\n",
       "    </tr>\n",
       "    <tr>\n",
       "      <th>4</th>\n",
       "      <td>0</td>\n",
       "      <td>$</td>\n",
       "      <td>1403</td>\n",
       "      <td>2023-08-15</td>\n",
       "      <td>0.0</td>\n",
       "      <td>1.0</td>\n",
       "    </tr>\n",
       "  </tbody>\n",
       "</table>\n",
       "</div>"
      ],
      "text/plain": [
       "  codigo_producto moneda_venta  id_cliente fecha_venta  monto_ventas_producto  \\\n",
       "0               0          $          1241  2022-12-30                    0.0   \n",
       "1               0          $          1258  2022-12-16                    0.0   \n",
       "2               0          $          1201  2024-01-30                    0.0   \n",
       "3               0          $          1260  2023-03-01                    0.0   \n",
       "4               0          $          1403  2023-08-15                    0.0   \n",
       "\n",
       "   cantidad_ventas_producto  \n",
       "0                       1.0  \n",
       "1                       1.0  \n",
       "2                       1.0  \n",
       "3                       1.0  \n",
       "4                       1.0  "
      ]
     },
     "execution_count": 1357,
     "metadata": {},
     "output_type": "execute_result"
    }
   ],
   "source": [
    "ventas_df = ventas_df[ventas_df['codigo_producto'].isin(productos_df[productos_df['unidad_de_medida_producto'] == 'Uni']['codigo_producto'])]\n",
    "ventas_df.head()"
   ]
  },
  {
   "cell_type": "code",
   "execution_count": 1358,
   "metadata": {},
   "outputs": [
    {
     "data": {
      "text/html": [
       "<div>\n",
       "<style scoped>\n",
       "    .dataframe tbody tr th:only-of-type {\n",
       "        vertical-align: middle;\n",
       "    }\n",
       "\n",
       "    .dataframe tbody tr th {\n",
       "        vertical-align: top;\n",
       "    }\n",
       "\n",
       "    .dataframe thead th {\n",
       "        text-align: right;\n",
       "    }\n",
       "</style>\n",
       "<table border=\"1\" class=\"dataframe\">\n",
       "  <thead>\n",
       "    <tr style=\"text-align: right;\">\n",
       "      <th></th>\n",
       "      <th>unidad_de_medida_producto</th>\n",
       "      <th>cantidad_ventas_producto</th>\n",
       "    </tr>\n",
       "  </thead>\n",
       "  <tbody>\n",
       "    <tr>\n",
       "      <th>0</th>\n",
       "      <td>Uni</td>\n",
       "      <td>1385107.436</td>\n",
       "    </tr>\n",
       "  </tbody>\n",
       "</table>\n",
       "</div>"
      ],
      "text/plain": [
       "  unidad_de_medida_producto  cantidad_ventas_producto\n",
       "0                       Uni               1385107.436"
      ]
     },
     "execution_count": 1358,
     "metadata": {},
     "output_type": "execute_result"
    }
   ],
   "source": [
    "# Combinar productos_df y ventas_df en base a 'codigo_producto'\n",
    "merged_df = pd.merge(ventas_df, productos_df, on='codigo_producto', how='left')\n",
    "\n",
    "# Agrupar por 'unidad_de_medida_producto' y sumar 'cantidad_ventas_producto'\n",
    "ventas_totales = merged_df.groupby('unidad_de_medida_producto')['cantidad_ventas_producto'].sum().reset_index()\n",
    "\n",
    "# Mostrar el resultado\n",
    "ventas_totales"
   ]
  },
  {
   "cell_type": "code",
   "execution_count": 1359,
   "metadata": {},
   "outputs": [
    {
     "data": {
      "text/html": [
       "<div>\n",
       "<style scoped>\n",
       "    .dataframe tbody tr th:only-of-type {\n",
       "        vertical-align: middle;\n",
       "    }\n",
       "\n",
       "    .dataframe tbody tr th {\n",
       "        vertical-align: top;\n",
       "    }\n",
       "\n",
       "    .dataframe thead th {\n",
       "        text-align: right;\n",
       "    }\n",
       "</style>\n",
       "<table border=\"1\" class=\"dataframe\">\n",
       "  <thead>\n",
       "    <tr style=\"text-align: right;\">\n",
       "      <th></th>\n",
       "      <th>Monto Total</th>\n",
       "      <th>Porcentaje del Total</th>\n",
       "    </tr>\n",
       "    <tr>\n",
       "      <th>moneda_venta</th>\n",
       "      <th></th>\n",
       "      <th></th>\n",
       "    </tr>\n",
       "  </thead>\n",
       "  <tbody>\n",
       "    <tr>\n",
       "      <th>$</th>\n",
       "      <td>1,384,967.44</td>\n",
       "      <td>99.99%</td>\n",
       "    </tr>\n",
       "    <tr>\n",
       "      <th>U$S</th>\n",
       "      <td>140.00</td>\n",
       "      <td>0.01%</td>\n",
       "    </tr>\n",
       "  </tbody>\n",
       "</table>\n",
       "</div>"
      ],
      "text/plain": [
       "               Monto Total Porcentaje del Total\n",
       "moneda_venta                                   \n",
       "$             1,384,967.44               99.99%\n",
       "U$S                 140.00                0.01%"
      ]
     },
     "execution_count": 1359,
     "metadata": {},
     "output_type": "execute_result"
    }
   ],
   "source": [
    "# Asegúrate de que 'monto_ventas_producto' sea numérico\n",
    "ventas_df['monto_ventas_producto'] = pd.to_numeric(ventas_df['cantidad_ventas_producto'], errors='coerce')\n",
    "\n",
    "# Agrupa por tipo de moneda y suma los montos de ventas\n",
    "suma_por_moneda = ventas_df.groupby('moneda_venta')['cantidad_ventas_producto'].sum()\n",
    "\n",
    "# Calcular el total de todas las ventas\n",
    "total_ventas = suma_por_moneda.sum()\n",
    "\n",
    "# Crear un nuevo DataFrame con los montos y los porcentajes\n",
    "resultado = pd.DataFrame({\n",
    "    'Monto Total': suma_por_moneda,\n",
    "    'Porcentaje del Total': (suma_por_moneda / total_ventas) * 100\n",
    "})\n",
    "\n",
    "# Formatear los montos y porcentajes para mejor legibilidad\n",
    "resultado['Monto Total'] = resultado['Monto Total'].apply(lambda x: f\"{x:,.2f}\")\n",
    "resultado['Porcentaje del Total'] = resultado['Porcentaje del Total'].apply(lambda x: f\"{x:.2f}%\")\n",
    "\n",
    "# Verificar el resultado\n",
    "resultado"
   ]
  },
  {
   "cell_type": "code",
   "execution_count": 1360,
   "metadata": {},
   "outputs": [
    {
     "data": {
      "text/html": [
       "<div>\n",
       "<style scoped>\n",
       "    .dataframe tbody tr th:only-of-type {\n",
       "        vertical-align: middle;\n",
       "    }\n",
       "\n",
       "    .dataframe tbody tr th {\n",
       "        vertical-align: top;\n",
       "    }\n",
       "\n",
       "    .dataframe thead th {\n",
       "        text-align: right;\n",
       "    }\n",
       "</style>\n",
       "<table border=\"1\" class=\"dataframe\">\n",
       "  <thead>\n",
       "    <tr style=\"text-align: right;\">\n",
       "      <th></th>\n",
       "      <th>ds</th>\n",
       "      <th>y</th>\n",
       "    </tr>\n",
       "  </thead>\n",
       "  <tbody>\n",
       "    <tr>\n",
       "      <th>0</th>\n",
       "      <td>2022-04-16</td>\n",
       "      <td>39.00</td>\n",
       "    </tr>\n",
       "    <tr>\n",
       "      <th>1</th>\n",
       "      <td>2022-04-17</td>\n",
       "      <td>160.00</td>\n",
       "    </tr>\n",
       "    <tr>\n",
       "      <th>2</th>\n",
       "      <td>2022-04-18</td>\n",
       "      <td>2180.00</td>\n",
       "    </tr>\n",
       "    <tr>\n",
       "      <th>3</th>\n",
       "      <td>2022-04-19</td>\n",
       "      <td>1110.00</td>\n",
       "    </tr>\n",
       "    <tr>\n",
       "      <th>4</th>\n",
       "      <td>2022-04-20</td>\n",
       "      <td>1692.46</td>\n",
       "    </tr>\n",
       "  </tbody>\n",
       "</table>\n",
       "</div>"
      ],
      "text/plain": [
       "          ds        y\n",
       "0 2022-04-16    39.00\n",
       "1 2022-04-17   160.00\n",
       "2 2022-04-18  2180.00\n",
       "3 2022-04-19  1110.00\n",
       "4 2022-04-20  1692.46"
      ]
     },
     "execution_count": 1360,
     "metadata": {},
     "output_type": "execute_result"
    }
   ],
   "source": [
    "# Filtrar por tipo de moneda (por ejemplo, solo $)\n",
    "ventas_filtrado = ventas_df.loc[ventas_df['moneda_venta'] == '$  ']\n",
    "\n",
    "# Crear la tabla agregada con el DataFrame filtrado\n",
    "df = ventas_filtrado.groupby('fecha_venta').agg(\n",
    "    cantidad_ventas_producto=pd.NamedAgg(column='cantidad_ventas_producto', aggfunc='sum')\n",
    ").reset_index()\n",
    "\n",
    "# Renombramos variables para que Prophet tome como input\n",
    "df = df.rename(columns={'fecha_venta': 'ds', 'cantidad_ventas_producto': 'y'})\n",
    "\n",
    "# Asegurarse de que 'ds' sea un datetime\n",
    "df['ds'] = pd.to_datetime(df['ds'])\n",
    "\n",
    "# Revisar los datos resampleados\n",
    "df.head()\n"
   ]
  },
  {
   "cell_type": "markdown",
   "metadata": {},
   "source": [
    "Completamos las fechas faltantes con valores nulos"
   ]
  },
  {
   "cell_type": "code",
   "execution_count": 1361,
   "metadata": {},
   "outputs": [],
   "source": [
    "#import pandas as pd\n",
    "\n",
    "# Supongamos que tu DataFrame original es 'df' y ya tiene la columna 'ds' con fechas\n",
    "# Asegúrate de que la columna 'ds' esté en formato datetime\n",
    "#df['ds'] = pd.to_datetime(df['ds'])\n",
    "\n",
    "# Crear un rango completo de fechas desde la mínima hasta la máxima fecha en tu DataFrame\n",
    "#full_date_range = pd.date_range(start=df['ds'].min(), end=df['ds'].max())\n",
    "\n",
    "# Reindexar tu DataFrame usando este rango de fechas\n",
    "#df = df.set_index('ds').reindex(full_date_range).reset_index()\n",
    "\n",
    "# Renombrar la columna de fechas nuevamente a 'ds'\n",
    "#df = df.rename(columns={'index': 'ds'})\n",
    "\n",
    "# Llenar los valores faltantes en la columna 'y' con 0\n",
    "#df['y'] = df['y'].fillna(0)\n",
    "\n",
    "# Verificar el resultado\n",
    "#df.head()\n"
   ]
  },
  {
   "cell_type": "markdown",
   "metadata": {},
   "source": [
    "##### Para modelar vacaciones y eventos especiales con selección manual"
   ]
  },
  {
   "cell_type": "code",
   "execution_count": 1362,
   "metadata": {},
   "outputs": [
    {
     "data": {
      "text/html": [
       "<div>\n",
       "<style scoped>\n",
       "    .dataframe tbody tr th:only-of-type {\n",
       "        vertical-align: middle;\n",
       "    }\n",
       "\n",
       "    .dataframe tbody tr th {\n",
       "        vertical-align: top;\n",
       "    }\n",
       "\n",
       "    .dataframe thead th {\n",
       "        text-align: right;\n",
       "    }\n",
       "</style>\n",
       "<table border=\"1\" class=\"dataframe\">\n",
       "  <thead>\n",
       "    <tr style=\"text-align: right;\">\n",
       "      <th></th>\n",
       "      <th>holiday</th>\n",
       "      <th>ds</th>\n",
       "      <th>lower_window</th>\n",
       "      <th>upper_window</th>\n",
       "    </tr>\n",
       "  </thead>\n",
       "  <tbody>\n",
       "    <tr>\n",
       "      <th>0</th>\n",
       "      <td>Año Nuevo</td>\n",
       "      <td>2022-01-01</td>\n",
       "      <td>-3</td>\n",
       "      <td>3</td>\n",
       "    </tr>\n",
       "    <tr>\n",
       "      <th>1</th>\n",
       "      <td>Reyes</td>\n",
       "      <td>2022-01-06</td>\n",
       "      <td>-3</td>\n",
       "      <td>3</td>\n",
       "    </tr>\n",
       "    <tr>\n",
       "      <th>2</th>\n",
       "      <td>Carnaval</td>\n",
       "      <td>2022-02-12</td>\n",
       "      <td>-3</td>\n",
       "      <td>3</td>\n",
       "    </tr>\n",
       "    <tr>\n",
       "      <th>3</th>\n",
       "      <td>Semana Santa</td>\n",
       "      <td>2022-03-28</td>\n",
       "      <td>-3</td>\n",
       "      <td>3</td>\n",
       "    </tr>\n",
       "    <tr>\n",
       "      <th>4</th>\n",
       "      <td>Día del Trabajador</td>\n",
       "      <td>2022-05-01</td>\n",
       "      <td>-3</td>\n",
       "      <td>3</td>\n",
       "    </tr>\n",
       "    <tr>\n",
       "      <th>5</th>\n",
       "      <td>Natalicio de Artigas</td>\n",
       "      <td>2022-06-19</td>\n",
       "      <td>-3</td>\n",
       "      <td>3</td>\n",
       "    </tr>\n",
       "    <tr>\n",
       "      <th>6</th>\n",
       "      <td>Jura de la Constitución</td>\n",
       "      <td>2022-07-18</td>\n",
       "      <td>-3</td>\n",
       "      <td>3</td>\n",
       "    </tr>\n",
       "    <tr>\n",
       "      <th>7</th>\n",
       "      <td>Declaratoria de la Independencia</td>\n",
       "      <td>2022-08-25</td>\n",
       "      <td>-3</td>\n",
       "      <td>3</td>\n",
       "    </tr>\n",
       "    <tr>\n",
       "      <th>8</th>\n",
       "      <td>Día de la Raza</td>\n",
       "      <td>2022-10-12</td>\n",
       "      <td>-3</td>\n",
       "      <td>3</td>\n",
       "    </tr>\n",
       "    <tr>\n",
       "      <th>9</th>\n",
       "      <td>Día de los Difuntos</td>\n",
       "      <td>2022-11-02</td>\n",
       "      <td>-3</td>\n",
       "      <td>3</td>\n",
       "    </tr>\n",
       "    <tr>\n",
       "      <th>10</th>\n",
       "      <td>Navidad</td>\n",
       "      <td>2022-12-25</td>\n",
       "      <td>-3</td>\n",
       "      <td>3</td>\n",
       "    </tr>\n",
       "  </tbody>\n",
       "</table>\n",
       "</div>"
      ],
      "text/plain": [
       "                             holiday         ds  lower_window  upper_window\n",
       "0                          Año Nuevo 2022-01-01            -3             3\n",
       "1                              Reyes 2022-01-06            -3             3\n",
       "2                           Carnaval 2022-02-12            -3             3\n",
       "3                       Semana Santa 2022-03-28            -3             3\n",
       "4                 Día del Trabajador 2022-05-01            -3             3\n",
       "5               Natalicio de Artigas 2022-06-19            -3             3\n",
       "6            Jura de la Constitución 2022-07-18            -3             3\n",
       "7   Declaratoria de la Independencia 2022-08-25            -3             3\n",
       "8                     Día de la Raza 2022-10-12            -3             3\n",
       "9                Día de los Difuntos 2022-11-02            -3             3\n",
       "10                           Navidad 2022-12-25            -3             3"
      ]
     },
     "execution_count": 1362,
     "metadata": {},
     "output_type": "execute_result"
    }
   ],
   "source": [
    "import pandas as pd\n",
    "\n",
    "# Lista de los nombres de los feriados\n",
    "holiday_names = ['Año Nuevo', 'Reyes', 'Carnaval', 'Semana Santa', 'Día del Trabajador', 'Natalicio de Artigas', \n",
    "                 'Jura de la Constitución', 'Declaratoria de la Independencia', 'Día de la Raza', 'Día de los Difuntos', 'Navidad']\n",
    "\n",
    "# Fechas base de los feriados (solo un año de ejemplo, luego generaremos para otros años)\n",
    "holiday_dates = ['01-01', '01-06', '02-12', '03-28', '05-01', '06-19', '07-18', '08-25', '10-12', '11-02', '12-25']\n",
    "\n",
    "# Crear una lista vacía para almacenar los feriados\n",
    "all_holidays = []\n",
    "\n",
    "# Generar los feriados para los años desde 2022 hasta 2026\n",
    "for year in range(2022, 2027):\n",
    "    for i, date in enumerate(holiday_dates):\n",
    "        all_holidays.append({\n",
    "            'holiday': holiday_names[i],\n",
    "            'ds': pd.to_datetime(f'{year}-{date}'),\n",
    "            'lower_window': -3,  # Afecta 3 días antes del feriado\n",
    "            'upper_window': 3    # Afecta 3 días después del feriado\n",
    "        })\n",
    "\n",
    "# Convertir la lista de diccionarios a un DataFrame de pandas\n",
    "holidays_uruguay = pd.DataFrame(all_holidays)\n",
    "\n",
    "# Mostrar los primeros datos\n",
    "holidays_uruguay.head(11)\n"
   ]
  },
  {
   "cell_type": "markdown",
   "metadata": {},
   "source": [
    "##### Ingeniería de atributos"
   ]
  },
  {
   "cell_type": "code",
   "execution_count": 1363,
   "metadata": {},
   "outputs": [
    {
     "data": {
      "text/html": [
       "<div>\n",
       "<style scoped>\n",
       "    .dataframe tbody tr th:only-of-type {\n",
       "        vertical-align: middle;\n",
       "    }\n",
       "\n",
       "    .dataframe tbody tr th {\n",
       "        vertical-align: top;\n",
       "    }\n",
       "\n",
       "    .dataframe thead th {\n",
       "        text-align: right;\n",
       "    }\n",
       "</style>\n",
       "<table border=\"1\" class=\"dataframe\">\n",
       "  <thead>\n",
       "    <tr style=\"text-align: right;\">\n",
       "      <th></th>\n",
       "      <th>ds</th>\n",
       "      <th>y</th>\n",
       "      <th>day_of_week</th>\n",
       "      <th>day_of_month</th>\n",
       "      <th>month</th>\n",
       "      <th>year</th>\n",
       "      <th>is_weekend</th>\n",
       "      <th>quarter</th>\n",
       "      <th>week_of_year</th>\n",
       "      <th>day_of_year</th>\n",
       "      <th>is_holiday</th>\n",
       "    </tr>\n",
       "  </thead>\n",
       "  <tbody>\n",
       "    <tr>\n",
       "      <th>0</th>\n",
       "      <td>2022-04-16</td>\n",
       "      <td>39.00</td>\n",
       "      <td>5</td>\n",
       "      <td>16</td>\n",
       "      <td>4</td>\n",
       "      <td>2022</td>\n",
       "      <td>1</td>\n",
       "      <td>2</td>\n",
       "      <td>15</td>\n",
       "      <td>106</td>\n",
       "      <td>0</td>\n",
       "    </tr>\n",
       "    <tr>\n",
       "      <th>1</th>\n",
       "      <td>2022-04-17</td>\n",
       "      <td>160.00</td>\n",
       "      <td>6</td>\n",
       "      <td>17</td>\n",
       "      <td>4</td>\n",
       "      <td>2022</td>\n",
       "      <td>1</td>\n",
       "      <td>2</td>\n",
       "      <td>15</td>\n",
       "      <td>107</td>\n",
       "      <td>0</td>\n",
       "    </tr>\n",
       "    <tr>\n",
       "      <th>2</th>\n",
       "      <td>2022-04-18</td>\n",
       "      <td>2180.00</td>\n",
       "      <td>0</td>\n",
       "      <td>18</td>\n",
       "      <td>4</td>\n",
       "      <td>2022</td>\n",
       "      <td>0</td>\n",
       "      <td>2</td>\n",
       "      <td>16</td>\n",
       "      <td>108</td>\n",
       "      <td>0</td>\n",
       "    </tr>\n",
       "    <tr>\n",
       "      <th>3</th>\n",
       "      <td>2022-04-19</td>\n",
       "      <td>1110.00</td>\n",
       "      <td>1</td>\n",
       "      <td>19</td>\n",
       "      <td>4</td>\n",
       "      <td>2022</td>\n",
       "      <td>0</td>\n",
       "      <td>2</td>\n",
       "      <td>16</td>\n",
       "      <td>109</td>\n",
       "      <td>0</td>\n",
       "    </tr>\n",
       "    <tr>\n",
       "      <th>4</th>\n",
       "      <td>2022-04-20</td>\n",
       "      <td>1692.46</td>\n",
       "      <td>2</td>\n",
       "      <td>20</td>\n",
       "      <td>4</td>\n",
       "      <td>2022</td>\n",
       "      <td>0</td>\n",
       "      <td>2</td>\n",
       "      <td>16</td>\n",
       "      <td>110</td>\n",
       "      <td>0</td>\n",
       "    </tr>\n",
       "  </tbody>\n",
       "</table>\n",
       "</div>"
      ],
      "text/plain": [
       "          ds        y  day_of_week  day_of_month  month  year  is_weekend  \\\n",
       "0 2022-04-16    39.00            5            16      4  2022           1   \n",
       "1 2022-04-17   160.00            6            17      4  2022           1   \n",
       "2 2022-04-18  2180.00            0            18      4  2022           0   \n",
       "3 2022-04-19  1110.00            1            19      4  2022           0   \n",
       "4 2022-04-20  1692.46            2            20      4  2022           0   \n",
       "\n",
       "   quarter  week_of_year  day_of_year  is_holiday  \n",
       "0        2            15          106           0  \n",
       "1        2            15          107           0  \n",
       "2        2            16          108           0  \n",
       "3        2            16          109           0  \n",
       "4        2            16          110           0  "
      ]
     },
     "execution_count": 1363,
     "metadata": {},
     "output_type": "execute_result"
    }
   ],
   "source": [
    "import pandas as pd\n",
    "import numpy as np\n",
    "\n",
    "# Crear características adicionales a partir de la columna de fechas 'ds'\n",
    "df['ds'] = pd.to_datetime(df['ds'])\n",
    "# Asegurarse de que la columna de fechas en holidays_uruguay esté en formato datetime\n",
    "holidays_uruguay['ds'] = pd.to_datetime(holidays_uruguay['ds'])\n",
    "\n",
    "# Crear características basadas en la fecha\n",
    "df['day_of_week'] = df['ds'].dt.dayofweek\n",
    "df['day_of_month'] = df['ds'].dt.day\n",
    "df['month'] = df['ds'].dt.month\n",
    "df['year'] = df['ds'].dt.year\n",
    "df['is_weekend'] = df['day_of_week'].apply(lambda x: 1 if x >= 5 else 0)\n",
    "\n",
    "\n",
    "# Crear características basadas en la fecha\n",
    "df['day_of_week'] = df['ds'].dt.dayofweek\n",
    "df['day_of_month'] = df['ds'].dt.day\n",
    "df['month'] = df['ds'].dt.month\n",
    "df['year'] = df['ds'].dt.year\n",
    "df['is_weekend'] = df['day_of_week'].apply(lambda x: 1 if x >= 5 else 0)\n",
    "df['quarter'] = df['ds'].dt.quarter\n",
    "df['week_of_year'] = df['ds'].dt.isocalendar().week  # Semana del año (ISO)\n",
    "df['day_of_year'] = df['ds'].dt.dayofyear  # Día del año\n",
    "\n",
    "\n",
    "# Crear una nueva columna 'is_holiday' en df_train y df_test\n",
    "df = pd.merge(df, holidays_uruguay[['ds', 'holiday']], on='ds', how='left')\n",
    "df['is_holiday'] = df['holiday'].apply(lambda x: 1 if pd.notnull(x) else 0)\n",
    "\n",
    "# Eliminar la columna 'holiday_name' ya que solo queremos 'is_holiday' como input\n",
    "df = df.drop(columns=['holiday'])\n",
    "\n",
    "# Rolling window\n",
    "#df['rolling_mean_2'] = df['y'].rolling(window=2, min_periods=1).mean()\n",
    "#df['rolling_mean_7'] = df['y'].rolling(window=7, min_periods=1).mean()\n",
    "#df['rolling_mean_14'] = df['y'].rolling(window=14, min_periods=1).mean()\n",
    "#df['rolling_mean_21'] = df['y'].rolling(window=21, min_periods=1).mean()\n",
    "#df['rolling_mean_30'] = df['y'].rolling(window=30, min_periods=1).mean()\n",
    "\n",
    "# Eliminar filas con valores NaN generados por el rolling\n",
    "df = df.dropna()\n",
    "\n",
    "df.head()"
   ]
  },
  {
   "cell_type": "code",
   "execution_count": 1364,
   "metadata": {},
   "outputs": [
    {
     "data": {
      "text/plain": [
       "Lunes        108\n",
       "Martes       110\n",
       "Miércoles    111\n",
       "Jueves       109\n",
       "Viernes      109\n",
       "Sábado       111\n",
       "Domingo       10\n",
       "Name: day_of_week, dtype: int64"
      ]
     },
     "execution_count": 1364,
     "metadata": {},
     "output_type": "execute_result"
    }
   ],
   "source": [
    "# Contar el número de filas por cada día de la semana\n",
    "conteo_por_dia_semana = df['day_of_week'].value_counts().sort_index()\n",
    "\n",
    "# Mapear los números de los días de la semana a sus nombres correspondientes\n",
    "dias_semana = {0: 'Lunes', 1: 'Martes', 2: 'Miércoles', 3: 'Jueves', 4: 'Viernes', 5: 'Sábado', 6: 'Domingo'}\n",
    "conteo_por_dia_semana.index = conteo_por_dia_semana.index.map(dias_semana)\n",
    "\n",
    "# Mostrar el resultado\n",
    "conteo_por_dia_semana"
   ]
  },
  {
   "cell_type": "markdown",
   "metadata": {},
   "source": [
    "##### Train y test set"
   ]
  },
  {
   "cell_type": "code",
   "execution_count": 1365,
   "metadata": {},
   "outputs": [],
   "source": [
    "# ===============================\n",
    "# 🧠 MEJORAS PARA TIMEGPT INPUT\n",
    "# ===============================\n",
    "\n",
    "import numpy as np\n",
    "\n",
    "# 1. Agregar lags\n",
    "df['lag_1'] = df['y'].shift(1)\n",
    "df['lag_7'] = df['y'].shift(7)\n",
    "\n",
    "# 2. Media móvil (rolling mean)\n",
    "df['rolling_mean_7'] = df['y'].rolling(window=7, min_periods=1).mean()\n",
    "\n",
    "# 3. Suavizado exponencial (opcional)\n",
    "df['y'] = df['y'].ewm(alpha=0.2).mean()\n",
    "\n",
    "# ✅ Guardar serie original antes de los cambios\n",
    "df['y_original'] = df['y']\n",
    "\n",
    "# 4. Transformación logarítmica\n",
    "df['y'] = np.log1p(df['y'])\n",
    "\n",
    "# 5. Completar nulos\n",
    "df = df.fillna(method='bfill')"
   ]
  },
  {
   "cell_type": "code",
   "execution_count": 1366,
   "metadata": {},
   "outputs": [],
   "source": [
    "df['ds'] = pd.to_datetime(df['ds'])\n",
    "df = df[df['ds'].dt.weekday != 6]  # Elimina los domingos (6 = Domingo)\n",
    "df = df.sort_values(by='ds')"
   ]
  },
  {
   "cell_type": "code",
   "execution_count": 1367,
   "metadata": {},
   "outputs": [
    {
     "data": {
      "text/plain": [
       "Lunes        108\n",
       "Martes       110\n",
       "Miércoles    111\n",
       "Jueves       109\n",
       "Viernes      109\n",
       "Sábado       111\n",
       "Name: day_of_week, dtype: int64"
      ]
     },
     "execution_count": 1367,
     "metadata": {},
     "output_type": "execute_result"
    }
   ],
   "source": [
    "# Contar el número de filas por cada día de la semana\n",
    "conteo_por_dia_semana = df['day_of_week'].value_counts().sort_index()\n",
    "\n",
    "# Mapear los números de los días de la semana a sus nombres correspondientes\n",
    "dias_semana = {0: 'Lunes', 1: 'Martes', 2: 'Miércoles', 3: 'Jueves', 4: 'Viernes', 5: 'Sábado', 6: 'Domingo'}\n",
    "conteo_por_dia_semana.index = conteo_por_dia_semana.index.map(dias_semana)\n",
    "\n",
    "# Mostrar el resultado\n",
    "conteo_por_dia_semana"
   ]
  },
  {
   "cell_type": "code",
   "execution_count": 1368,
   "metadata": {},
   "outputs": [
    {
     "name": "stdout",
     "output_type": "stream",
     "text": [
      "Datos de training:  541  -  82.0 %\n",
      "Datos de testing:  117  -  18.0 %\n"
     ]
    }
   ],
   "source": [
    "TEST_DATE = '2024-01-15'\n",
    "\n",
    "df_train = df[df['ds'] < TEST_DATE]\n",
    "df_test = df[df['ds'] >= TEST_DATE]\n",
    "\n",
    "print(\"Datos de training: \", len(df_train), \" - \", round((len(df_train)/len(df)),2)*100, \"%\")\n",
    "print(\"Datos de testing: \", len(df_test), \" - \", round((len(df_test)/len(df)),2)*100, \"%\")"
   ]
  },
  {
   "cell_type": "markdown",
   "metadata": {},
   "source": [
    "##### TimeGPT-1"
   ]
  },
  {
   "cell_type": "code",
   "execution_count": 1369,
   "metadata": {},
   "outputs": [],
   "source": [
    "import pandas as pd\n",
    "from nixtla import NixtlaClient"
   ]
  },
  {
   "cell_type": "code",
   "execution_count": 1370,
   "metadata": {},
   "outputs": [],
   "source": [
    "# Get your API Key at dashboard.nixtla.io\n",
    "\n",
    "# 1. Instantiate the NixtlaClient\n",
    "nixtla_client = NixtlaClient(api_key = 'nixtla-tok-kBaAOIBEprApGiouqPaDWOXVoedcnK24VbizErEORaRlVNppXdsR5HHnfB9F7ZTWjEXalsVNx27YKPSk')"
   ]
  },
  {
   "cell_type": "code",
   "execution_count": 1371,
   "metadata": {},
   "outputs": [
    {
     "data": {
      "text/plain": [
       "True"
      ]
     },
     "execution_count": 1371,
     "metadata": {},
     "output_type": "execute_result"
    }
   ],
   "source": [
    "nixtla_client.validate_api_key()"
   ]
  },
  {
   "cell_type": "code",
   "execution_count": 1372,
   "metadata": {},
   "outputs": [
    {
     "data": {
      "text/html": [
       "<div>\n",
       "<style scoped>\n",
       "    .dataframe tbody tr th:only-of-type {\n",
       "        vertical-align: middle;\n",
       "    }\n",
       "\n",
       "    .dataframe tbody tr th {\n",
       "        vertical-align: top;\n",
       "    }\n",
       "\n",
       "    .dataframe thead th {\n",
       "        text-align: right;\n",
       "    }\n",
       "</style>\n",
       "<table border=\"1\" class=\"dataframe\">\n",
       "  <thead>\n",
       "    <tr style=\"text-align: right;\">\n",
       "      <th></th>\n",
       "      <th>ds</th>\n",
       "      <th>y</th>\n",
       "      <th>day_of_week</th>\n",
       "      <th>day_of_month</th>\n",
       "      <th>month</th>\n",
       "      <th>year</th>\n",
       "      <th>is_weekend</th>\n",
       "      <th>quarter</th>\n",
       "      <th>week_of_year</th>\n",
       "      <th>day_of_year</th>\n",
       "      <th>is_holiday</th>\n",
       "      <th>lag_1</th>\n",
       "      <th>lag_7</th>\n",
       "      <th>rolling_mean_7</th>\n",
       "      <th>y_original</th>\n",
       "    </tr>\n",
       "  </thead>\n",
       "  <tbody>\n",
       "    <tr>\n",
       "      <th>549</th>\n",
       "      <td>2024-01-15</td>\n",
       "      <td>7.517807</td>\n",
       "      <td>0</td>\n",
       "      <td>15</td>\n",
       "      <td>1</td>\n",
       "      <td>2024</td>\n",
       "      <td>0</td>\n",
       "      <td>1</td>\n",
       "      <td>3</td>\n",
       "      <td>15</td>\n",
       "      <td>0</td>\n",
       "      <td>27.0</td>\n",
       "      <td>1985.0</td>\n",
       "      <td>1776.857143</td>\n",
       "      <td>1839.527403</td>\n",
       "    </tr>\n",
       "    <tr>\n",
       "      <th>550</th>\n",
       "      <td>2024-01-16</td>\n",
       "      <td>7.622283</td>\n",
       "      <td>1</td>\n",
       "      <td>16</td>\n",
       "      <td>1</td>\n",
       "      <td>2024</td>\n",
       "      <td>0</td>\n",
       "      <td>1</td>\n",
       "      <td>3</td>\n",
       "      <td>16</td>\n",
       "      <td>0</td>\n",
       "      <td>2762.0</td>\n",
       "      <td>1829.0</td>\n",
       "      <td>1923.142857</td>\n",
       "      <td>2042.221922</td>\n",
       "    </tr>\n",
       "    <tr>\n",
       "      <th>551</th>\n",
       "      <td>2024-01-17</td>\n",
       "      <td>7.625096</td>\n",
       "      <td>2</td>\n",
       "      <td>17</td>\n",
       "      <td>1</td>\n",
       "      <td>2024</td>\n",
       "      <td>0</td>\n",
       "      <td>1</td>\n",
       "      <td>3</td>\n",
       "      <td>17</td>\n",
       "      <td>0</td>\n",
       "      <td>2853.0</td>\n",
       "      <td>2601.0</td>\n",
       "      <td>1847.428571</td>\n",
       "      <td>2047.977538</td>\n",
       "    </tr>\n",
       "    <tr>\n",
       "      <th>552</th>\n",
       "      <td>2024-01-18</td>\n",
       "      <td>7.678503</td>\n",
       "      <td>3</td>\n",
       "      <td>18</td>\n",
       "      <td>1</td>\n",
       "      <td>2024</td>\n",
       "      <td>0</td>\n",
       "      <td>1</td>\n",
       "      <td>3</td>\n",
       "      <td>18</td>\n",
       "      <td>0</td>\n",
       "      <td>2071.0</td>\n",
       "      <td>1308.0</td>\n",
       "      <td>2033.428571</td>\n",
       "      <td>2160.382030</td>\n",
       "    </tr>\n",
       "    <tr>\n",
       "      <th>553</th>\n",
       "      <td>2024-01-19</td>\n",
       "      <td>7.699256</td>\n",
       "      <td>4</td>\n",
       "      <td>19</td>\n",
       "      <td>1</td>\n",
       "      <td>2024</td>\n",
       "      <td>0</td>\n",
       "      <td>1</td>\n",
       "      <td>3</td>\n",
       "      <td>19</td>\n",
       "      <td>0</td>\n",
       "      <td>2610.0</td>\n",
       "      <td>2382.0</td>\n",
       "      <td>2034.142857</td>\n",
       "      <td>2205.705624</td>\n",
       "    </tr>\n",
       "  </tbody>\n",
       "</table>\n",
       "</div>"
      ],
      "text/plain": [
       "            ds         y  day_of_week  day_of_month  month  year  is_weekend  \\\n",
       "549 2024-01-15  7.517807            0            15      1  2024           0   \n",
       "550 2024-01-16  7.622283            1            16      1  2024           0   \n",
       "551 2024-01-17  7.625096            2            17      1  2024           0   \n",
       "552 2024-01-18  7.678503            3            18      1  2024           0   \n",
       "553 2024-01-19  7.699256            4            19      1  2024           0   \n",
       "\n",
       "     quarter  week_of_year  day_of_year  is_holiday   lag_1   lag_7  \\\n",
       "549        1             3           15           0    27.0  1985.0   \n",
       "550        1             3           16           0  2762.0  1829.0   \n",
       "551        1             3           17           0  2853.0  2601.0   \n",
       "552        1             3           18           0  2071.0  1308.0   \n",
       "553        1             3           19           0  2610.0  2382.0   \n",
       "\n",
       "     rolling_mean_7   y_original  \n",
       "549     1776.857143  1839.527403  \n",
       "550     1923.142857  2042.221922  \n",
       "551     1847.428571  2047.977538  \n",
       "552     2033.428571  2160.382030  \n",
       "553     2034.142857  2205.705624  "
      ]
     },
     "execution_count": 1372,
     "metadata": {},
     "output_type": "execute_result"
    }
   ],
   "source": [
    "df_test.head()"
   ]
  },
  {
   "cell_type": "code",
   "execution_count": 1373,
   "metadata": {},
   "outputs": [],
   "source": [
    "# Seleccionar variables exógenas\n",
    "X_df = df_test[['ds', 'day_of_week', 'day_of_month', 'month', 'year', 'is_weekend', 'quarter', 'week_of_year', 'day_of_year', 'is_holiday', 'lag_1', 'lag_7', 'rolling_mean_7']]"
   ]
  },
  {
   "cell_type": "code",
   "execution_count": 1374,
   "metadata": {},
   "outputs": [
    {
     "name": "stdout",
     "output_type": "stream",
     "text": [
      "(117, 13) (541, 15)\n"
     ]
    }
   ],
   "source": [
    "print(X_df.shape, df_train.shape)  # Deben tener el mismo número de filas"
   ]
  },
  {
   "cell_type": "code",
   "execution_count": 1375,
   "metadata": {},
   "outputs": [
    {
     "name": "stdout",
     "output_type": "stream",
     "text": [
      "Frecuencia detectada en df_train: None\n",
      "Frecuencia detectada en df_test: None\n",
      "Frecuencia detectada en X_df: None\n"
     ]
    }
   ],
   "source": [
    "print(\"Frecuencia detectada en df_train:\", pd.infer_freq(df_train['ds']))\n",
    "print(\"Frecuencia detectada en df_test:\", pd.infer_freq(df_test['ds']))\n",
    "print(\"Frecuencia detectada en X_df:\", pd.infer_freq(X_df['ds']))"
   ]
  },
  {
   "cell_type": "code",
   "execution_count": 1376,
   "metadata": {},
   "outputs": [],
   "source": [
    "df_train = df_train.set_index('ds').asfreq('B').reset_index()\n",
    "df_test = df_test.set_index('ds').asfreq('B').reset_index()\n",
    "X_df = X_df.set_index('ds').asfreq('B').reset_index()"
   ]
  },
  {
   "cell_type": "code",
   "execution_count": 1377,
   "metadata": {},
   "outputs": [
    {
     "name": "stdout",
     "output_type": "stream",
     "text": [
      "(98, 13) (455, 15)\n"
     ]
    }
   ],
   "source": [
    "print(X_df.shape, df_train.shape)"
   ]
  },
  {
   "cell_type": "code",
   "execution_count": 1378,
   "metadata": {},
   "outputs": [
    {
     "name": "stdout",
     "output_type": "stream",
     "text": [
      "Frecuencia detectada en df_train: B\n",
      "Frecuencia detectada en df_test: B\n",
      "Frecuencia detectada en X_df: B\n"
     ]
    }
   ],
   "source": [
    "print(\"Frecuencia detectada en df_train:\", pd.infer_freq(df_train['ds']))\n",
    "print(\"Frecuencia detectada en df_test:\", pd.infer_freq(df_test['ds']))\n",
    "print(\"Frecuencia detectada en X_df:\", pd.infer_freq(X_df['ds']))"
   ]
  },
  {
   "cell_type": "code",
   "execution_count": 1379,
   "metadata": {},
   "outputs": [
    {
     "name": "stdout",
     "output_type": "stream",
     "text": [
      "Última fecha en df_train: 2024-01-12 00:00:00\n",
      "Última fecha en X_df: 2024-05-29 00:00:00\n"
     ]
    }
   ],
   "source": [
    "print(\"Última fecha en df_train:\", df_train['ds'].max())\n",
    "print(\"Última fecha en X_df:\", X_df['ds'].max())"
   ]
  },
  {
   "cell_type": "code",
   "execution_count": 1380,
   "metadata": {},
   "outputs": [],
   "source": [
    "df_train = df_train.dropna(subset=['y'])"
   ]
  },
  {
   "cell_type": "code",
   "execution_count": 1381,
   "metadata": {},
   "outputs": [
    {
     "data": {
      "text/plain": [
       "98"
      ]
     },
     "execution_count": 1381,
     "metadata": {},
     "output_type": "execute_result"
    }
   ],
   "source": [
    "len(X_df)"
   ]
  },
  {
   "cell_type": "code",
   "execution_count": 1382,
   "metadata": {},
   "outputs": [
    {
     "name": "stderr",
     "output_type": "stream",
     "text": [
      "INFO:nixtla.nixtla_client:Validating inputs...\n",
      "INFO:nixtla.nixtla_client:Preprocessing dataframes...\n",
      "WARNING:nixtla.nixtla_client:The specified horizon \"h\" exceeds the model horizon. This may lead to less accurate forecasts. Please consider using a smaller horizon.\n",
      "INFO:nixtla.nixtla_client:Using the following exogenous variables: day_of_week, day_of_month, month, year, is_weekend, quarter, week_of_year, day_of_year, is_holiday, lag_1, lag_7, rolling_mean_7\n",
      "INFO:nixtla.nixtla_client:Calling Forecast Endpoint...\n"
     ]
    }
   ],
   "source": [
    "timegpt_fcst_df = nixtla_client.forecast(df=df_train, X_df=X_df, h=98, time_col='ds', target_col='y', freq='B')"
   ]
  },
  {
   "cell_type": "code",
   "execution_count": 1383,
   "metadata": {},
   "outputs": [
    {
     "data": {
      "image/png": "[encoded data removed]",
      "text/plain": [
       "<Figure size 1600x350 with 1 Axes>"
      ]
     },
     "execution_count": 1383,
     "metadata": {},
     "output_type": "execute_result"
    }
   ],
   "source": [
    "nixtla_client.plot(df_train, timegpt_fcst_df, time_col='ds', target_col='y')"
   ]
  },
  {
   "cell_type": "code",
   "execution_count": 1384,
   "metadata": {},
   "outputs": [
    {
     "data": {
      "text/plain": [
       "98"
      ]
     },
     "execution_count": 1384,
     "metadata": {},
     "output_type": "execute_result"
    }
   ],
   "source": [
    "len(X_df)"
   ]
  },
  {
   "cell_type": "code",
   "execution_count": 1385,
   "metadata": {},
   "outputs": [
    {
     "data": {
      "text/plain": [
       "98"
      ]
     },
     "execution_count": 1385,
     "metadata": {},
     "output_type": "execute_result"
    }
   ],
   "source": [
    "len(df_test)"
   ]
  },
  {
   "cell_type": "code",
   "execution_count": 1386,
   "metadata": {},
   "outputs": [
    {
     "name": "stdout",
     "output_type": "stream",
     "text": [
      "MAE: 94.83\n",
      "MSE: 13799.01\n",
      "RMSE: 117.47\n",
      "MAPE: 4.20%\n"
     ]
    }
   ],
   "source": [
    "from sklearn.metrics import mean_absolute_error, mean_squared_error\n",
    "import numpy as np\n",
    "\n",
    "# Asegúrate de que los valores reales y predicciones estén alineados\n",
    "#actuals = df_test['y'].values  # Valores reales\n",
    "actuals = np.expm1(df_test['y'].values)\n",
    "#predictions = timegpt_fcst_df['TimeGPT'].values  # Predicciones del modelo\n",
    "predictions = np.expm1(timegpt_fcst_df['TimeGPT'].values)\n",
    "\n",
    "# Calcular MAE\n",
    "mae = mean_absolute_error(actuals, predictions)\n",
    "\n",
    "# Calcular MSE\n",
    "mse = mean_squared_error(actuals, predictions)\n",
    "\n",
    "# Calcular RMSE\n",
    "rmse = np.sqrt(mse)\n",
    "\n",
    "# Filtrar valores donde actuals no sea igual a 0\n",
    "non_zero_actuals = actuals != 0\n",
    "filtered_actuals = actuals[non_zero_actuals]\n",
    "filtered_predictions = predictions[non_zero_actuals]\n",
    "\n",
    "# Calcular MAPE sólo para valores donde actuals no sea 0\n",
    "mape = np.mean(np.abs((filtered_actuals - filtered_predictions) / filtered_actuals)) * 100\n",
    "\n",
    "# Mostrar resultados\n",
    "print(f\"MAE: {mae:.2f}\")\n",
    "print(f\"MSE: {mse:.2f}\")\n",
    "print(f\"RMSE: {rmse:.2f}\")\n",
    "print(f\"MAPE: {mape:.2f}%\")"
   ]
  },
  {
   "cell_type": "code",
   "execution_count": 1387,
   "metadata": {},
   "outputs": [
    {
     "data": {
      "text/html": [
       "<div>\n",
       "<style scoped>\n",
       "    .dataframe tbody tr th:only-of-type {\n",
       "        vertical-align: middle;\n",
       "    }\n",
       "\n",
       "    .dataframe tbody tr th {\n",
       "        vertical-align: top;\n",
       "    }\n",
       "\n",
       "    .dataframe thead th {\n",
       "        text-align: right;\n",
       "    }\n",
       "</style>\n",
       "<table border=\"1\" class=\"dataframe\">\n",
       "  <thead>\n",
       "    <tr style=\"text-align: right;\">\n",
       "      <th></th>\n",
       "      <th>ds</th>\n",
       "      <th>TimeGPT</th>\n",
       "    </tr>\n",
       "  </thead>\n",
       "  <tbody>\n",
       "    <tr>\n",
       "      <th>0</th>\n",
       "      <td>2024-01-15</td>\n",
       "      <td>7.443203</td>\n",
       "    </tr>\n",
       "    <tr>\n",
       "      <th>1</th>\n",
       "      <td>2024-01-16</td>\n",
       "      <td>7.551426</td>\n",
       "    </tr>\n",
       "    <tr>\n",
       "      <th>2</th>\n",
       "      <td>2024-01-17</td>\n",
       "      <td>7.563208</td>\n",
       "    </tr>\n",
       "    <tr>\n",
       "      <th>3</th>\n",
       "      <td>2024-01-18</td>\n",
       "      <td>7.612406</td>\n",
       "    </tr>\n",
       "    <tr>\n",
       "      <th>4</th>\n",
       "      <td>2024-01-19</td>\n",
       "      <td>7.662839</td>\n",
       "    </tr>\n",
       "    <tr>\n",
       "      <th>...</th>\n",
       "      <td>...</td>\n",
       "      <td>...</td>\n",
       "    </tr>\n",
       "    <tr>\n",
       "      <th>93</th>\n",
       "      <td>2024-05-23</td>\n",
       "      <td>7.490433</td>\n",
       "    </tr>\n",
       "    <tr>\n",
       "      <th>94</th>\n",
       "      <td>2024-05-24</td>\n",
       "      <td>7.580101</td>\n",
       "    </tr>\n",
       "    <tr>\n",
       "      <th>95</th>\n",
       "      <td>2024-05-27</td>\n",
       "      <td>7.491601</td>\n",
       "    </tr>\n",
       "    <tr>\n",
       "      <th>96</th>\n",
       "      <td>2024-05-28</td>\n",
       "      <td>7.482265</td>\n",
       "    </tr>\n",
       "    <tr>\n",
       "      <th>97</th>\n",
       "      <td>2024-05-29</td>\n",
       "      <td>7.483837</td>\n",
       "    </tr>\n",
       "  </tbody>\n",
       "</table>\n",
       "<p>98 rows × 2 columns</p>\n",
       "</div>"
      ],
      "text/plain": [
       "            ds   TimeGPT\n",
       "0   2024-01-15  7.443203\n",
       "1   2024-01-16  7.551426\n",
       "2   2024-01-17  7.563208\n",
       "3   2024-01-18  7.612406\n",
       "4   2024-01-19  7.662839\n",
       "..         ...       ...\n",
       "93  2024-05-23  7.490433\n",
       "94  2024-05-24  7.580101\n",
       "95  2024-05-27  7.491601\n",
       "96  2024-05-28  7.482265\n",
       "97  2024-05-29  7.483837\n",
       "\n",
       "[98 rows x 2 columns]"
      ]
     },
     "execution_count": 1387,
     "metadata": {},
     "output_type": "execute_result"
    }
   ],
   "source": [
    "timegpt_fcst_df"
   ]
  },
  {
   "cell_type": "code",
   "execution_count": 1388,
   "metadata": {},
   "outputs": [
    {
     "data": {
      "text/html": [
       "<div>\n",
       "<style scoped>\n",
       "    .dataframe tbody tr th:only-of-type {\n",
       "        vertical-align: middle;\n",
       "    }\n",
       "\n",
       "    .dataframe tbody tr th {\n",
       "        vertical-align: top;\n",
       "    }\n",
       "\n",
       "    .dataframe thead th {\n",
       "        text-align: right;\n",
       "    }\n",
       "</style>\n",
       "<table border=\"1\" class=\"dataframe\">\n",
       "  <thead>\n",
       "    <tr style=\"text-align: right;\">\n",
       "      <th></th>\n",
       "      <th>ds</th>\n",
       "      <th>y</th>\n",
       "      <th>day_of_week</th>\n",
       "      <th>day_of_month</th>\n",
       "      <th>month</th>\n",
       "      <th>year</th>\n",
       "      <th>is_weekend</th>\n",
       "      <th>quarter</th>\n",
       "      <th>week_of_year</th>\n",
       "      <th>day_of_year</th>\n",
       "      <th>is_holiday</th>\n",
       "      <th>lag_1</th>\n",
       "      <th>lag_7</th>\n",
       "      <th>rolling_mean_7</th>\n",
       "      <th>y_original</th>\n",
       "      <th>TimeGPT</th>\n",
       "    </tr>\n",
       "  </thead>\n",
       "  <tbody>\n",
       "    <tr>\n",
       "      <th>0</th>\n",
       "      <td>2024-01-15</td>\n",
       "      <td>7.517807</td>\n",
       "      <td>0</td>\n",
       "      <td>15</td>\n",
       "      <td>1</td>\n",
       "      <td>2024</td>\n",
       "      <td>0</td>\n",
       "      <td>1</td>\n",
       "      <td>3</td>\n",
       "      <td>15</td>\n",
       "      <td>0</td>\n",
       "      <td>27.0</td>\n",
       "      <td>1985.0</td>\n",
       "      <td>1776.857143</td>\n",
       "      <td>1839.527403</td>\n",
       "      <td>7.443203</td>\n",
       "    </tr>\n",
       "    <tr>\n",
       "      <th>1</th>\n",
       "      <td>2024-01-16</td>\n",
       "      <td>7.622283</td>\n",
       "      <td>1</td>\n",
       "      <td>16</td>\n",
       "      <td>1</td>\n",
       "      <td>2024</td>\n",
       "      <td>0</td>\n",
       "      <td>1</td>\n",
       "      <td>3</td>\n",
       "      <td>16</td>\n",
       "      <td>0</td>\n",
       "      <td>2762.0</td>\n",
       "      <td>1829.0</td>\n",
       "      <td>1923.142857</td>\n",
       "      <td>2042.221922</td>\n",
       "      <td>7.551426</td>\n",
       "    </tr>\n",
       "    <tr>\n",
       "      <th>2</th>\n",
       "      <td>2024-01-17</td>\n",
       "      <td>7.625096</td>\n",
       "      <td>2</td>\n",
       "      <td>17</td>\n",
       "      <td>1</td>\n",
       "      <td>2024</td>\n",
       "      <td>0</td>\n",
       "      <td>1</td>\n",
       "      <td>3</td>\n",
       "      <td>17</td>\n",
       "      <td>0</td>\n",
       "      <td>2853.0</td>\n",
       "      <td>2601.0</td>\n",
       "      <td>1847.428571</td>\n",
       "      <td>2047.977538</td>\n",
       "      <td>7.563208</td>\n",
       "    </tr>\n",
       "    <tr>\n",
       "      <th>3</th>\n",
       "      <td>2024-01-18</td>\n",
       "      <td>7.678503</td>\n",
       "      <td>3</td>\n",
       "      <td>18</td>\n",
       "      <td>1</td>\n",
       "      <td>2024</td>\n",
       "      <td>0</td>\n",
       "      <td>1</td>\n",
       "      <td>3</td>\n",
       "      <td>18</td>\n",
       "      <td>0</td>\n",
       "      <td>2071.0</td>\n",
       "      <td>1308.0</td>\n",
       "      <td>2033.428571</td>\n",
       "      <td>2160.382030</td>\n",
       "      <td>7.612406</td>\n",
       "    </tr>\n",
       "    <tr>\n",
       "      <th>4</th>\n",
       "      <td>2024-01-19</td>\n",
       "      <td>7.699256</td>\n",
       "      <td>4</td>\n",
       "      <td>19</td>\n",
       "      <td>1</td>\n",
       "      <td>2024</td>\n",
       "      <td>0</td>\n",
       "      <td>1</td>\n",
       "      <td>3</td>\n",
       "      <td>19</td>\n",
       "      <td>0</td>\n",
       "      <td>2610.0</td>\n",
       "      <td>2382.0</td>\n",
       "      <td>2034.142857</td>\n",
       "      <td>2205.705624</td>\n",
       "      <td>7.662839</td>\n",
       "    </tr>\n",
       "  </tbody>\n",
       "</table>\n",
       "</div>"
      ],
      "text/plain": [
       "          ds         y  day_of_week  day_of_month  month  year  is_weekend  \\\n",
       "0 2024-01-15  7.517807            0            15      1  2024           0   \n",
       "1 2024-01-16  7.622283            1            16      1  2024           0   \n",
       "2 2024-01-17  7.625096            2            17      1  2024           0   \n",
       "3 2024-01-18  7.678503            3            18      1  2024           0   \n",
       "4 2024-01-19  7.699256            4            19      1  2024           0   \n",
       "\n",
       "   quarter  week_of_year  day_of_year  is_holiday   lag_1   lag_7  \\\n",
       "0        1             3           15           0    27.0  1985.0   \n",
       "1        1             3           16           0  2762.0  1829.0   \n",
       "2        1             3           17           0  2853.0  2601.0   \n",
       "3        1             3           18           0  2071.0  1308.0   \n",
       "4        1             3           19           0  2610.0  2382.0   \n",
       "\n",
       "   rolling_mean_7   y_original   TimeGPT  \n",
       "0     1776.857143  1839.527403  7.443203  \n",
       "1     1923.142857  2042.221922  7.551426  \n",
       "2     1847.428571  2047.977538  7.563208  \n",
       "3     2033.428571  2160.382030  7.612406  \n",
       "4     2034.142857  2205.705624  7.662839  "
      ]
     },
     "execution_count": 1388,
     "metadata": {},
     "output_type": "execute_result"
    }
   ],
   "source": [
    "# Convertir la columna 'ds' en timegpt_fcst_df a datetime\n",
    "timegpt_fcst_df['ds'] = pd.to_datetime(timegpt_fcst_df['ds'])\n",
    "\n",
    "# Realizar el merge entre df_test y timegpt_fcst_df basado en la columna 'ds'\n",
    "merged_df = pd.merge(\n",
    "    df_test,                  # DataFrame base\n",
    "    timegpt_fcst_df,          # DataFrame a unir\n",
    "    on='ds',                  # Columna clave para el merge\n",
    "    how='outer'               # Todas las fechas ('outer join')\n",
    ")\n",
    "\n",
    "# Visualizar el resultado\n",
    "merged_df.head()\n"
   ]
  },
  {
   "cell_type": "code",
   "execution_count": 1389,
   "metadata": {
    "vscode": {
     "languageId": "javascript"
    }
   },
   "outputs": [],
   "source": [
    "import numpy as np\n",
    "\n",
    "df_results_best = pd.DataFrame({\n",
    "    'Fecha': merged_df['ds'],  # Índice de tiempo de test\n",
    "    'Actual': merged_df['y_original'],        # Valores reales\n",
    "    'Predicted': merged_df['TimeGPT'] # Predicciones de TimeGPT deshechas de la escala logarítmica\n",
    "}).set_index('Fecha')"
   ]
  },
  {
   "cell_type": "code",
   "execution_count": 1390,
   "metadata": {},
   "outputs": [
    {
     "data": {
      "text/html": [
       "<div>\n",
       "<style scoped>\n",
       "    .dataframe tbody tr th:only-of-type {\n",
       "        vertical-align: middle;\n",
       "    }\n",
       "\n",
       "    .dataframe tbody tr th {\n",
       "        vertical-align: top;\n",
       "    }\n",
       "\n",
       "    .dataframe thead th {\n",
       "        text-align: right;\n",
       "    }\n",
       "</style>\n",
       "<table border=\"1\" class=\"dataframe\">\n",
       "  <thead>\n",
       "    <tr style=\"text-align: right;\">\n",
       "      <th></th>\n",
       "      <th>Actual</th>\n",
       "      <th>Predicted</th>\n",
       "    </tr>\n",
       "    <tr>\n",
       "      <th>Fecha</th>\n",
       "      <th></th>\n",
       "      <th></th>\n",
       "    </tr>\n",
       "  </thead>\n",
       "  <tbody>\n",
       "    <tr>\n",
       "      <th>2024-01-15</th>\n",
       "      <td>1839.527403</td>\n",
       "      <td>7.443203</td>\n",
       "    </tr>\n",
       "    <tr>\n",
       "      <th>2024-01-16</th>\n",
       "      <td>2042.221922</td>\n",
       "      <td>7.551426</td>\n",
       "    </tr>\n",
       "    <tr>\n",
       "      <th>2024-01-17</th>\n",
       "      <td>2047.977538</td>\n",
       "      <td>7.563208</td>\n",
       "    </tr>\n",
       "    <tr>\n",
       "      <th>2024-01-18</th>\n",
       "      <td>2160.382030</td>\n",
       "      <td>7.612406</td>\n",
       "    </tr>\n",
       "    <tr>\n",
       "      <th>2024-01-19</th>\n",
       "      <td>2205.705624</td>\n",
       "      <td>7.662839</td>\n",
       "    </tr>\n",
       "  </tbody>\n",
       "</table>\n",
       "</div>"
      ],
      "text/plain": [
       "                 Actual  Predicted\n",
       "Fecha                             \n",
       "2024-01-15  1839.527403   7.443203\n",
       "2024-01-16  2042.221922   7.551426\n",
       "2024-01-17  2047.977538   7.563208\n",
       "2024-01-18  2160.382030   7.612406\n",
       "2024-01-19  2205.705624   7.662839"
      ]
     },
     "execution_count": 1390,
     "metadata": {},
     "output_type": "execute_result"
    }
   ],
   "source": [
    "df_results_best.head()"
   ]
  },
  {
   "cell_type": "code",
   "execution_count": 1391,
   "metadata": {},
   "outputs": [
    {
     "data": {
      "text/plain": [
       "Index(['Actual', 'Predicted'], dtype='object')"
      ]
     },
     "execution_count": 1391,
     "metadata": {},
     "output_type": "execute_result"
    }
   ],
   "source": [
    "df_results_best.columns"
   ]
  },
  {
   "cell_type": "code",
   "execution_count": 1392,
   "metadata": {},
   "outputs": [],
   "source": [
    "df_results_best = df_results_best.rename_axis('Fecha').reset_index()\n",
    "df_results_best['Fecha'] = pd.to_datetime(df_results_best['Fecha'])\n",
    "df_results_best = df_results_best[df_results_best['Fecha'].dt.weekday != 6]  # Elimina los domingos (6 = Domingo)\n",
    "df_results_best = df_results_best.sort_values(by='Fecha')"
   ]
  },
  {
   "cell_type": "code",
   "execution_count": 1393,
   "metadata": {},
   "outputs": [
    {
     "data": {
      "text/plain": [
       "98"
      ]
     },
     "execution_count": 1393,
     "metadata": {},
     "output_type": "execute_result"
    }
   ],
   "source": [
    "len(df_test)"
   ]
  },
  {
   "cell_type": "code",
   "execution_count": 1394,
   "metadata": {},
   "outputs": [
    {
     "data": {
      "text/html": [
       "<div>\n",
       "<style scoped>\n",
       "    .dataframe tbody tr th:only-of-type {\n",
       "        vertical-align: middle;\n",
       "    }\n",
       "\n",
       "    .dataframe tbody tr th {\n",
       "        vertical-align: top;\n",
       "    }\n",
       "\n",
       "    .dataframe thead th {\n",
       "        text-align: right;\n",
       "    }\n",
       "</style>\n",
       "<table border=\"1\" class=\"dataframe\">\n",
       "  <thead>\n",
       "    <tr style=\"text-align: right;\">\n",
       "      <th></th>\n",
       "      <th>Fecha</th>\n",
       "      <th>Actual</th>\n",
       "      <th>Predicted</th>\n",
       "    </tr>\n",
       "  </thead>\n",
       "  <tbody>\n",
       "    <tr>\n",
       "      <th>0</th>\n",
       "      <td>2024-01-15</td>\n",
       "      <td>1839.527403</td>\n",
       "      <td>7.443203</td>\n",
       "    </tr>\n",
       "    <tr>\n",
       "      <th>1</th>\n",
       "      <td>2024-01-16</td>\n",
       "      <td>2042.221922</td>\n",
       "      <td>7.551426</td>\n",
       "    </tr>\n",
       "    <tr>\n",
       "      <th>2</th>\n",
       "      <td>2024-01-17</td>\n",
       "      <td>2047.977538</td>\n",
       "      <td>7.563208</td>\n",
       "    </tr>\n",
       "    <tr>\n",
       "      <th>3</th>\n",
       "      <td>2024-01-18</td>\n",
       "      <td>2160.382030</td>\n",
       "      <td>7.612406</td>\n",
       "    </tr>\n",
       "    <tr>\n",
       "      <th>4</th>\n",
       "      <td>2024-01-19</td>\n",
       "      <td>2205.705624</td>\n",
       "      <td>7.662839</td>\n",
       "    </tr>\n",
       "    <tr>\n",
       "      <th>...</th>\n",
       "      <td>...</td>\n",
       "      <td>...</td>\n",
       "      <td>...</td>\n",
       "    </tr>\n",
       "    <tr>\n",
       "      <th>93</th>\n",
       "      <td>2024-05-23</td>\n",
       "      <td>1850.275124</td>\n",
       "      <td>7.490433</td>\n",
       "    </tr>\n",
       "    <tr>\n",
       "      <th>94</th>\n",
       "      <td>2024-05-24</td>\n",
       "      <td>1975.020099</td>\n",
       "      <td>7.580101</td>\n",
       "    </tr>\n",
       "    <tr>\n",
       "      <th>95</th>\n",
       "      <td>2024-05-27</td>\n",
       "      <td>1832.092864</td>\n",
       "      <td>7.491601</td>\n",
       "    </tr>\n",
       "    <tr>\n",
       "      <th>96</th>\n",
       "      <td>2024-05-28</td>\n",
       "      <td>1786.074291</td>\n",
       "      <td>7.482265</td>\n",
       "    </tr>\n",
       "    <tr>\n",
       "      <th>97</th>\n",
       "      <td>2024-05-29</td>\n",
       "      <td>1626.459433</td>\n",
       "      <td>7.483837</td>\n",
       "    </tr>\n",
       "  </tbody>\n",
       "</table>\n",
       "<p>98 rows × 3 columns</p>\n",
       "</div>"
      ],
      "text/plain": [
       "        Fecha       Actual  Predicted\n",
       "0  2024-01-15  1839.527403   7.443203\n",
       "1  2024-01-16  2042.221922   7.551426\n",
       "2  2024-01-17  2047.977538   7.563208\n",
       "3  2024-01-18  2160.382030   7.612406\n",
       "4  2024-01-19  2205.705624   7.662839\n",
       "..        ...          ...        ...\n",
       "93 2024-05-23  1850.275124   7.490433\n",
       "94 2024-05-24  1975.020099   7.580101\n",
       "95 2024-05-27  1832.092864   7.491601\n",
       "96 2024-05-28  1786.074291   7.482265\n",
       "97 2024-05-29  1626.459433   7.483837\n",
       "\n",
       "[98 rows x 3 columns]"
      ]
     },
     "execution_count": 1394,
     "metadata": {},
     "output_type": "execute_result"
    }
   ],
   "source": [
    "df_results_best"
   ]
  },
  {
   "cell_type": "code",
   "execution_count": 1395,
   "metadata": {},
   "outputs": [
    {
     "data": {
      "image/png": "[encoded data removed]",
      "text/plain": [
       "<Figure size 1400x700 with 1 Axes>"
      ]
     },
     "metadata": {},
     "output_type": "display_data"
    }
   ],
   "source": [
    "import matplotlib.pyplot as plt\n",
    "\n",
    "# Gráfico de series: Train, Test y Forecast\n",
    "plt.figure(figsize=(14, 7))\n",
    "\n",
    "# Serie de entrenamiento\n",
    "plt.plot(df_train['ds'], np.expm1(df_train['y']), label='Train', color='tab:blue')\n",
    "\n",
    "# Serie de prueba\n",
    "plt.plot(df_test['ds'], np.expm1(df_test['y']), label='Test', color='tab:orange')\n",
    "\n",
    "# Predicciones\n",
    "plt.plot(df_test['ds'], np.expm1(df_results_best['Predicted']), label='TimeGPT Forecast', color='tab:green')\n",
    "\n",
    "# Configuración del gráfico\n",
    "plt.title('Train, Test y TimeGPT Forecast')\n",
    "plt.xlabel('Fecha')\n",
    "plt.ylabel('Valores')\n",
    "plt.legend()\n",
    "plt.grid(False)  # Desactivar la cuadrícula\n",
    "plt.show()\n"
   ]
  },
  {
   "cell_type": "code",
   "execution_count": 1396,
   "metadata": {},
   "outputs": [
    {
     "data": {
      "image/png": "[encoded data removed]",
      "text/plain": [
       "<Figure size 1400x600 with 1 Axes>"
      ]
     },
     "metadata": {},
     "output_type": "display_data"
    }
   ],
   "source": [
    "# Gráfico de valores reales vs predicciones\n",
    "plt.figure(figsize=(14, 6))\n",
    "\n",
    "# Valores reales\n",
    "plt.plot(df_test['ds'], df_results_best['Actual'], label='Test', color='tab:orange')\n",
    "\n",
    "# Predicciones\n",
    "plt.plot(df_test['ds'], np.expm1(df_results_best['Predicted']), label='TimeGPT Forecast', color='tab:green')\n",
    "\n",
    "# Configuración del gráfico\n",
    "plt.title('TimeGPT Forecast vs Test')\n",
    "plt.xlabel('Fecha')\n",
    "plt.ylabel('Sales')\n",
    "plt.xticks(rotation=45)  # Rotar etiquetas de fecha\n",
    "plt.legend()\n",
    "plt.ylim(bottom=0)\n",
    "plt.show()"
   ]
  },
  {
   "cell_type": "code",
   "execution_count": 1397,
   "metadata": {},
   "outputs": [
    {
     "name": "stdout",
     "output_type": "stream",
     "text": [
      "Tiempo total del notebook: 7.55 segundos\n"
     ]
    }
   ],
   "source": [
    "notebook_end_time = time.time()\n",
    "print(f\"Tiempo total del notebook: {notebook_end_time - notebook_start_time:.2f} segundos\")"
   ]
  }
 ],
 "metadata": {
  "kernelspec": {
   "display_name": "Python 3",
   "language": "python",
   "name": "python3"
  },
  "language_info": {
   "codemirror_mode": {
    "name": "ipython",
    "version": 3
   },
   "file_extension": ".py",
   "mimetype": "text/x-python",
   "name": "python",
   "nbconvert_exporter": "python",
   "pygments_lexer": "ipython3",
   "version": "3.11.9"
  }
 },
 "nbformat": 4,
 "nbformat_minor": 2
}
