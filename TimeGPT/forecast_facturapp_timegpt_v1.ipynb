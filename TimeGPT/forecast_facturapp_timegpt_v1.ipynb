{
 "cells": [
  {
   "cell_type": "markdown",
   "metadata": {},
   "source": [
    "### Forecast de demanda: Facturapp"
   ]
  },
  {
   "cell_type": "markdown",
   "metadata": {},
   "source": [
    "#### ✅ TimeGPT"
   ]
  },
  {
   "cell_type": "markdown",
   "metadata": {},
   "source": [
    "##### Datos"
   ]
  },
  {
   "cell_type": "code",
   "execution_count": 1,
   "metadata": {},
   "outputs": [],
   "source": [
    "import warnings\n",
    "warnings.simplefilter(\"ignore\", DeprecationWarning)\n",
    "warnings.simplefilter(\"ignore\", FutureWarning, )"
   ]
  },
  {
   "cell_type": "code",
   "execution_count": 2,
   "metadata": {},
   "outputs": [],
   "source": [
    "import pandas as pd\n",
    "\n",
    "# Rutas a los archivos CSV\n",
    "clientes_path = 'C:/Others/Emprendiendo/Agencia/Bummi ai/GitHub Bummi/forecast_facturapp/csv/clientes.csv'\n",
    "productos_path = 'C:/Others/Emprendiendo/Agencia/Bummi ai/GitHub Bummi/forecast_facturapp/csv/productos.csv'\n",
    "ventas_path = 'C:/Others/Emprendiendo/Agencia/Bummi ai/GitHub Bummi/forecast_facturapp/csv/ventas.csv'\n",
    "\n",
    "# Leer los archivos CSV\n",
    "clientes_df = pd.read_csv(clientes_path)\n",
    "productos_df = pd.read_csv(productos_path)\n",
    "ventas_df = pd.read_csv(ventas_path)"
   ]
  },
  {
   "cell_type": "code",
   "execution_count": 3,
   "metadata": {},
   "outputs": [
    {
     "data": {
      "text/html": [
       "<div>\n",
       "<style scoped>\n",
       "    .dataframe tbody tr th:only-of-type {\n",
       "        vertical-align: middle;\n",
       "    }\n",
       "\n",
       "    .dataframe tbody tr th {\n",
       "        vertical-align: top;\n",
       "    }\n",
       "\n",
       "    .dataframe thead th {\n",
       "        text-align: right;\n",
       "    }\n",
       "</style>\n",
       "<table border=\"1\" class=\"dataframe\">\n",
       "  <thead>\n",
       "    <tr style=\"text-align: right;\">\n",
       "      <th></th>\n",
       "      <th>fecha_venta</th>\n",
       "      <th>cantidad_ventas_producto</th>\n",
       "    </tr>\n",
       "  </thead>\n",
       "  <tbody>\n",
       "    <tr>\n",
       "      <th>0</th>\n",
       "      <td>2022-04-18</td>\n",
       "      <td>1.0</td>\n",
       "    </tr>\n",
       "    <tr>\n",
       "      <th>1</th>\n",
       "      <td>2022-04-20</td>\n",
       "      <td>5.0</td>\n",
       "    </tr>\n",
       "    <tr>\n",
       "      <th>2</th>\n",
       "      <td>2022-04-21</td>\n",
       "      <td>2.0</td>\n",
       "    </tr>\n",
       "    <tr>\n",
       "      <th>3</th>\n",
       "      <td>2022-04-22</td>\n",
       "      <td>7.0</td>\n",
       "    </tr>\n",
       "    <tr>\n",
       "      <th>4</th>\n",
       "      <td>2022-04-23</td>\n",
       "      <td>6.0</td>\n",
       "    </tr>\n",
       "  </tbody>\n",
       "</table>\n",
       "</div>"
      ],
      "text/plain": [
       "  fecha_venta  cantidad_ventas_producto\n",
       "0  2022-04-18                       1.0\n",
       "1  2022-04-20                       5.0\n",
       "2  2022-04-21                       2.0\n",
       "3  2022-04-22                       7.0\n",
       "4  2022-04-23                       6.0"
      ]
     },
     "execution_count": 3,
     "metadata": {},
     "output_type": "execute_result"
    }
   ],
   "source": [
    "# Lista de códigos de producto que quieres filtrar\n",
    "codigos_producto = ['60']\n",
    "\n",
    "# Filtrar el DataFrame original para que solo incluya las filas con los códigos de producto especificados\n",
    "ventas_filtradas_df = ventas_df[ventas_df['codigo_producto'].isin(codigos_producto)]\n",
    "\n",
    "# Crear la tabla agregada con los datos filtrados\n",
    "tabla_agrupada = ventas_filtradas_df.groupby('fecha_venta').agg(\n",
    "    cantidad_ventas_producto=pd.NamedAgg(column='cantidad_ventas_producto', aggfunc='sum')\n",
    ").reset_index()\n",
    "\n",
    "# Pivotear las ventas de cada código de producto\n",
    "ventas_por_producto = ventas_filtradas_df.pivot_table(index='fecha_venta', columns='codigo_producto', values='cantidad_ventas_producto', aggfunc='sum', fill_value=0)\n",
    "\n",
    "# Renombrar las columnas con un prefijo para que coincida con tu formato\n",
    "ventas_por_producto.columns = [f'codigo_producto_{col}' for col in ventas_por_producto.columns]\n",
    "\n",
    "# Unir las tablas\n",
    "df_xgboost = pd.merge(tabla_agrupada, ventas_por_producto, on='fecha_venta', how='left')\n",
    "\n",
    "df_xgboost = df_xgboost[['fecha_venta', 'cantidad_ventas_producto']]\n",
    "\n",
    "df_xgboost.head()"
   ]
  },
  {
   "cell_type": "markdown",
   "metadata": {},
   "source": [
    "#### TimeGPT"
   ]
  },
  {
   "cell_type": "code",
   "execution_count": null,
   "metadata": {},
   "outputs": [],
   "source": [
    "import os\n",
    "import pandas as pd\n",
    "from nixtlats import TimeGPT\n",
    "#from src.utils import plot\n",
    "\n",
    "timegpt = TimeGPT(os.environ['TIMEGPT_TOKEN'])\n",
    "\n",
    "#Load historical data\n",
    "historic_df = pd.read_csv('electricity.csv')\n",
    "\n",
    "#Predict the future\n",
    "forecast_df = timegpt.forecast(historic_df, h = 24)\n",
    "\n",
    "#Visualize\n",
    "#plot(historic_df, forecast_df)"
   ]
  }
 ],
 "metadata": {
  "kernelspec": {
   "display_name": "Python 3",
   "language": "python",
   "name": "python3"
  },
  "language_info": {
   "codemirror_mode": {
    "name": "ipython",
    "version": 3
   },
   "file_extension": ".py",
   "mimetype": "text/x-python",
   "name": "python",
   "nbconvert_exporter": "python",
   "pygments_lexer": "ipython3",
   "version": "3.11.9"
  }
 },
 "nbformat": 4,
 "nbformat_minor": 2
}
